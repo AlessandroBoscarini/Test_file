{
  "nbformat": 4,
  "nbformat_minor": 0,
  "metadata": {
    "colab": {
      "provenance": [],
      "authorship_tag": "ABX9TyMSbYbHllL0SB7CjZyMFeLU",
      "include_colab_link": true
    },
    "kernelspec": {
      "name": "python3",
      "display_name": "Python 3"
    },
    "language_info": {
      "name": "python"
    }
  },
  "cells": [
    {
      "cell_type": "markdown",
      "metadata": {
        "id": "view-in-github",
        "colab_type": "text"
      },
      "source": [
        "<a href=\"https://colab.research.google.com/github/AlessandroBoscarini/Test_file/blob/main/Test_github.ipynb\" target=\"_parent\"><img src=\"https://colab.research.google.com/assets/colab-badge.svg\" alt=\"Open In Colab\"/></a>"
      ]
    },
    {
      "cell_type": "markdown",
      "source": [
        "Trying github\n"
      ],
      "metadata": {
        "id": "C2X1M4Y3S5YU"
      }
    },
    {
      "cell_type": "code",
      "source": [
        "#new function"
      ],
      "metadata": {
        "id": "sex-lONHS7uU"
      },
      "execution_count": null,
      "outputs": []
    },
    {
      "cell_type": "markdown",
      "source": [
        "Let's go!"
      ],
      "metadata": {
        "id": "CLdWaKFETBH6"
      }
    },
    {
      "cell_type": "code",
      "source": [],
      "metadata": {
        "id": "5yCDdVEATDRq"
      },
      "execution_count": null,
      "outputs": []
    }
  ]
}